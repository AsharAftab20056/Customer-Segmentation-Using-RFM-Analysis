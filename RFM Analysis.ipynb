{
 "cells": [
  {
   "cell_type": "markdown",
   "id": "8ca39846-c775-42ef-a808-a47367d6290b",
   "metadata": {},
   "source": [
    "#                                          TASK : CUSTOMER SEGMENTATION USING RFM ANALYSIS"
   ]
  },
  {
   "cell_type": "markdown",
   "id": "2014c62c-a06b-489b-abf8-3728edf5fa03",
   "metadata": {},
   "source": [
    "## IMPORTING THE CSV FILE"
   ]
  },
  {
   "cell_type": "code",
   "execution_count": 2,
   "id": "7875cd83-b06a-4f70-ab8e-de4eba7a42d1",
   "metadata": {},
   "outputs": [
    {
     "data": {
      "text/html": [
       "<div>\n",
       "<style scoped>\n",
       "    .dataframe tbody tr th:only-of-type {\n",
       "        vertical-align: middle;\n",
       "    }\n",
       "\n",
       "    .dataframe tbody tr th {\n",
       "        vertical-align: top;\n",
       "    }\n",
       "\n",
       "    .dataframe thead th {\n",
       "        text-align: right;\n",
       "    }\n",
       "</style>\n",
       "<table border=\"1\" class=\"dataframe\">\n",
       "  <thead>\n",
       "    <tr style=\"text-align: right;\">\n",
       "      <th></th>\n",
       "      <th>InvoiceNo</th>\n",
       "      <th>StockCode</th>\n",
       "      <th>Description</th>\n",
       "      <th>Quantity</th>\n",
       "      <th>InvoiceDate</th>\n",
       "      <th>UnitPrice</th>\n",
       "      <th>CustomerID</th>\n",
       "      <th>Country</th>\n",
       "    </tr>\n",
       "  </thead>\n",
       "  <tbody>\n",
       "    <tr>\n",
       "      <th>0</th>\n",
       "      <td>536365</td>\n",
       "      <td>85123A</td>\n",
       "      <td>WHITE HANGING HEART T-LIGHT HOLDER</td>\n",
       "      <td>6</td>\n",
       "      <td>01-12-10 8:26</td>\n",
       "      <td>2.55</td>\n",
       "      <td>17850.0</td>\n",
       "      <td>United Kingdom</td>\n",
       "    </tr>\n",
       "    <tr>\n",
       "      <th>1</th>\n",
       "      <td>536365</td>\n",
       "      <td>71053</td>\n",
       "      <td>WHITE METAL LANTERN</td>\n",
       "      <td>6</td>\n",
       "      <td>01-12-10 8:26</td>\n",
       "      <td>3.39</td>\n",
       "      <td>17850.0</td>\n",
       "      <td>United Kingdom</td>\n",
       "    </tr>\n",
       "    <tr>\n",
       "      <th>2</th>\n",
       "      <td>536365</td>\n",
       "      <td>84406B</td>\n",
       "      <td>CREAM CUPID HEARTS COAT HANGER</td>\n",
       "      <td>8</td>\n",
       "      <td>01-12-10 8:26</td>\n",
       "      <td>2.75</td>\n",
       "      <td>17850.0</td>\n",
       "      <td>United Kingdom</td>\n",
       "    </tr>\n",
       "    <tr>\n",
       "      <th>3</th>\n",
       "      <td>536365</td>\n",
       "      <td>84029G</td>\n",
       "      <td>KNITTED UNION FLAG HOT WATER BOTTLE</td>\n",
       "      <td>6</td>\n",
       "      <td>01-12-10 8:26</td>\n",
       "      <td>3.39</td>\n",
       "      <td>17850.0</td>\n",
       "      <td>United Kingdom</td>\n",
       "    </tr>\n",
       "    <tr>\n",
       "      <th>4</th>\n",
       "      <td>536365</td>\n",
       "      <td>84029E</td>\n",
       "      <td>RED WOOLLY HOTTIE WHITE HEART.</td>\n",
       "      <td>6</td>\n",
       "      <td>01-12-10 8:26</td>\n",
       "      <td>3.39</td>\n",
       "      <td>17850.0</td>\n",
       "      <td>United Kingdom</td>\n",
       "    </tr>\n",
       "  </tbody>\n",
       "</table>\n",
       "</div>"
      ],
      "text/plain": [
       "  InvoiceNo StockCode                          Description  Quantity  \\\n",
       "0    536365    85123A   WHITE HANGING HEART T-LIGHT HOLDER         6   \n",
       "1    536365     71053                  WHITE METAL LANTERN         6   \n",
       "2    536365    84406B       CREAM CUPID HEARTS COAT HANGER         8   \n",
       "3    536365    84029G  KNITTED UNION FLAG HOT WATER BOTTLE         6   \n",
       "4    536365    84029E       RED WOOLLY HOTTIE WHITE HEART.         6   \n",
       "\n",
       "     InvoiceDate  UnitPrice  CustomerID         Country  \n",
       "0  01-12-10 8:26       2.55     17850.0  United Kingdom  \n",
       "1  01-12-10 8:26       3.39     17850.0  United Kingdom  \n",
       "2  01-12-10 8:26       2.75     17850.0  United Kingdom  \n",
       "3  01-12-10 8:26       3.39     17850.0  United Kingdom  \n",
       "4  01-12-10 8:26       3.39     17850.0  United Kingdom  "
      ]
     },
     "execution_count": 2,
     "metadata": {},
     "output_type": "execute_result"
    }
   ],
   "source": [
    "import pandas as pd\n",
    "df = pd.read_csv(\"Online Retail.csv\")\n",
    "df.head()"
   ]
  },
  {
   "cell_type": "markdown",
   "id": "f40770f2-70bb-4b24-9882-025363eef9c6",
   "metadata": {},
   "source": [
    "## CLEANING THE CSV FILE FOR BETTER ANALYSIS"
   ]
  },
  {
   "cell_type": "markdown",
   "id": "faf2dbe6-7969-460c-9159-8fa2d2d512bf",
   "metadata": {},
   "source": [
    "### Step 1: Drop Missing Values"
   ]
  },
  {
   "cell_type": "code",
   "execution_count": 3,
   "id": "621b0179-9994-4e11-8eb2-3c2c5c33d040",
   "metadata": {},
   "outputs": [],
   "source": [
    "df = df.dropna(subset=['CustomerID'])"
   ]
  },
  {
   "cell_type": "markdown",
   "id": "07746183-6cc1-410e-85e4-2d174b007642",
   "metadata": {},
   "source": [
    "### Step 2: Remove cancellations"
   ]
  },
  {
   "cell_type": "code",
   "execution_count": 4,
   "id": "93a6c559-8297-4822-bd7b-c013f0ce5e50",
   "metadata": {},
   "outputs": [],
   "source": [
    "df = df[~df['InvoiceNo'].astype(str).str.startswith('C')]"
   ]
  },
  {
   "cell_type": "markdown",
   "id": "f5f903d6-e4d2-4441-91f3-fac9a4d529cb",
   "metadata": {},
   "source": [
    "### Step 3: Keep only positive quantities & prices"
   ]
  },
  {
   "cell_type": "code",
   "execution_count": 5,
   "id": "56a62d19-1716-4097-a741-5f62ae0ad564",
   "metadata": {},
   "outputs": [],
   "source": [
    "df = df[(df['Quantity'] > 0) & (df['UnitPrice'] > 0)]"
   ]
  },
  {
   "cell_type": "markdown",
   "id": "80a80be2-e4a5-4d21-98be-b27851ed40f9",
   "metadata": {},
   "source": [
    "### Step 4: Create a Total Sales column"
   ]
  },
  {
   "cell_type": "code",
   "execution_count": 8,
   "id": "f2a61e08-2927-4795-8b35-f0cd21520f51",
   "metadata": {},
   "outputs": [
    {
     "data": {
      "text/html": [
       "<div>\n",
       "<style scoped>\n",
       "    .dataframe tbody tr th:only-of-type {\n",
       "        vertical-align: middle;\n",
       "    }\n",
       "\n",
       "    .dataframe tbody tr th {\n",
       "        vertical-align: top;\n",
       "    }\n",
       "\n",
       "    .dataframe thead th {\n",
       "        text-align: right;\n",
       "    }\n",
       "</style>\n",
       "<table border=\"1\" class=\"dataframe\">\n",
       "  <thead>\n",
       "    <tr style=\"text-align: right;\">\n",
       "      <th></th>\n",
       "      <th>InvoiceNo</th>\n",
       "      <th>StockCode</th>\n",
       "      <th>Description</th>\n",
       "      <th>Quantity</th>\n",
       "      <th>InvoiceDate</th>\n",
       "      <th>UnitPrice</th>\n",
       "      <th>CustomerID</th>\n",
       "      <th>Country</th>\n",
       "      <th>TotalPrice</th>\n",
       "    </tr>\n",
       "  </thead>\n",
       "  <tbody>\n",
       "    <tr>\n",
       "      <th>0</th>\n",
       "      <td>536365</td>\n",
       "      <td>85123A</td>\n",
       "      <td>WHITE HANGING HEART T-LIGHT HOLDER</td>\n",
       "      <td>6</td>\n",
       "      <td>01-12-10 8:26</td>\n",
       "      <td>2.55</td>\n",
       "      <td>17850.0</td>\n",
       "      <td>United Kingdom</td>\n",
       "      <td>15.30</td>\n",
       "    </tr>\n",
       "    <tr>\n",
       "      <th>1</th>\n",
       "      <td>536365</td>\n",
       "      <td>71053</td>\n",
       "      <td>WHITE METAL LANTERN</td>\n",
       "      <td>6</td>\n",
       "      <td>01-12-10 8:26</td>\n",
       "      <td>3.39</td>\n",
       "      <td>17850.0</td>\n",
       "      <td>United Kingdom</td>\n",
       "      <td>20.34</td>\n",
       "    </tr>\n",
       "    <tr>\n",
       "      <th>2</th>\n",
       "      <td>536365</td>\n",
       "      <td>84406B</td>\n",
       "      <td>CREAM CUPID HEARTS COAT HANGER</td>\n",
       "      <td>8</td>\n",
       "      <td>01-12-10 8:26</td>\n",
       "      <td>2.75</td>\n",
       "      <td>17850.0</td>\n",
       "      <td>United Kingdom</td>\n",
       "      <td>22.00</td>\n",
       "    </tr>\n",
       "    <tr>\n",
       "      <th>3</th>\n",
       "      <td>536365</td>\n",
       "      <td>84029G</td>\n",
       "      <td>KNITTED UNION FLAG HOT WATER BOTTLE</td>\n",
       "      <td>6</td>\n",
       "      <td>01-12-10 8:26</td>\n",
       "      <td>3.39</td>\n",
       "      <td>17850.0</td>\n",
       "      <td>United Kingdom</td>\n",
       "      <td>20.34</td>\n",
       "    </tr>\n",
       "    <tr>\n",
       "      <th>4</th>\n",
       "      <td>536365</td>\n",
       "      <td>84029E</td>\n",
       "      <td>RED WOOLLY HOTTIE WHITE HEART.</td>\n",
       "      <td>6</td>\n",
       "      <td>01-12-10 8:26</td>\n",
       "      <td>3.39</td>\n",
       "      <td>17850.0</td>\n",
       "      <td>United Kingdom</td>\n",
       "      <td>20.34</td>\n",
       "    </tr>\n",
       "  </tbody>\n",
       "</table>\n",
       "</div>"
      ],
      "text/plain": [
       "  InvoiceNo StockCode                          Description  Quantity  \\\n",
       "0    536365    85123A   WHITE HANGING HEART T-LIGHT HOLDER         6   \n",
       "1    536365     71053                  WHITE METAL LANTERN         6   \n",
       "2    536365    84406B       CREAM CUPID HEARTS COAT HANGER         8   \n",
       "3    536365    84029G  KNITTED UNION FLAG HOT WATER BOTTLE         6   \n",
       "4    536365    84029E       RED WOOLLY HOTTIE WHITE HEART.         6   \n",
       "\n",
       "     InvoiceDate  UnitPrice  CustomerID         Country  TotalPrice  \n",
       "0  01-12-10 8:26       2.55     17850.0  United Kingdom       15.30  \n",
       "1  01-12-10 8:26       3.39     17850.0  United Kingdom       20.34  \n",
       "2  01-12-10 8:26       2.75     17850.0  United Kingdom       22.00  \n",
       "3  01-12-10 8:26       3.39     17850.0  United Kingdom       20.34  \n",
       "4  01-12-10 8:26       3.39     17850.0  United Kingdom       20.34  "
      ]
     },
     "execution_count": 8,
     "metadata": {},
     "output_type": "execute_result"
    }
   ],
   "source": [
    "df['TotalPrice'] = df['Quantity'] * df['UnitPrice']\n",
    "df.head()"
   ]
  },
  {
   "cell_type": "markdown",
   "id": "960470db-a7b6-4472-9354-6295e6eddb59",
   "metadata": {},
   "source": [
    "### Step 5: Fix Date Column"
   ]
  },
  {
   "cell_type": "code",
   "execution_count": 18,
   "id": "03a313b1-5e83-4f98-b74b-22727b142fe1",
   "metadata": {},
   "outputs": [],
   "source": [
    "df['InvoiceDate'] = pd.to_datetime(df['InvoiceDate'], format='%d/%m/%Y %H:%M')\n"
   ]
  },
  {
   "cell_type": "code",
   "execution_count": 19,
   "id": "d84716f6-ea57-4101-aeae-1e912c1488d8",
   "metadata": {},
   "outputs": [
    {
     "name": "stdout",
     "output_type": "stream",
     "text": [
      "0   2010-01-12 08:26:00\n",
      "1   2010-01-12 08:26:00\n",
      "2   2010-01-12 08:26:00\n",
      "3   2010-01-12 08:26:00\n",
      "4   2010-01-12 08:26:00\n",
      "Name: InvoiceDate, dtype: datetime64[ns]\n",
      "datetime64[ns]\n"
     ]
    }
   ],
   "source": [
    "print(df['InvoiceDate'].head())\n",
    "print(df['InvoiceDate'].dtype)   \n"
   ]
  },
  {
   "cell_type": "markdown",
   "id": "cce3d1b3-0018-4d61-82fb-bfb3da535f34",
   "metadata": {},
   "source": [
    "## RFM SCORING AND GROUPING SIMILAR CUSTOMERS"
   ]
  },
  {
   "cell_type": "markdown",
   "id": "f237ee6e-897e-4f5f-af93-dd803b27d350",
   "metadata": {},
   "source": [
    "### Step 1: Prepare RFM Table"
   ]
  },
  {
   "cell_type": "code",
   "execution_count": 20,
   "id": "0e3eb1b6-a5f4-429e-96db-7236bd99ff1b",
   "metadata": {},
   "outputs": [
    {
     "data": {
      "text/html": [
       "<div>\n",
       "<style scoped>\n",
       "    .dataframe tbody tr th:only-of-type {\n",
       "        vertical-align: middle;\n",
       "    }\n",
       "\n",
       "    .dataframe tbody tr th {\n",
       "        vertical-align: top;\n",
       "    }\n",
       "\n",
       "    .dataframe thead th {\n",
       "        text-align: right;\n",
       "    }\n",
       "</style>\n",
       "<table border=\"1\" class=\"dataframe\">\n",
       "  <thead>\n",
       "    <tr style=\"text-align: right;\">\n",
       "      <th></th>\n",
       "      <th>CustomerID</th>\n",
       "      <th>Recency</th>\n",
       "      <th>Frequency</th>\n",
       "      <th>Monetary</th>\n",
       "    </tr>\n",
       "  </thead>\n",
       "  <tbody>\n",
       "    <tr>\n",
       "      <th>0</th>\n",
       "      <td>12346.0</td>\n",
       "      <td>327</td>\n",
       "      <td>1</td>\n",
       "      <td>77183.60</td>\n",
       "    </tr>\n",
       "    <tr>\n",
       "      <th>1</th>\n",
       "      <td>12347.0</td>\n",
       "      <td>41</td>\n",
       "      <td>7</td>\n",
       "      <td>4310.00</td>\n",
       "    </tr>\n",
       "    <tr>\n",
       "      <th>2</th>\n",
       "      <td>12348.0</td>\n",
       "      <td>77</td>\n",
       "      <td>4</td>\n",
       "      <td>1797.24</td>\n",
       "    </tr>\n",
       "    <tr>\n",
       "      <th>3</th>\n",
       "      <td>12349.0</td>\n",
       "      <td>20</td>\n",
       "      <td>1</td>\n",
       "      <td>1757.55</td>\n",
       "    </tr>\n",
       "    <tr>\n",
       "      <th>4</th>\n",
       "      <td>12350.0</td>\n",
       "      <td>312</td>\n",
       "      <td>1</td>\n",
       "      <td>334.40</td>\n",
       "    </tr>\n",
       "  </tbody>\n",
       "</table>\n",
       "</div>"
      ],
      "text/plain": [
       "   CustomerID  Recency  Frequency  Monetary\n",
       "0     12346.0      327          1  77183.60\n",
       "1     12347.0       41          7   4310.00\n",
       "2     12348.0       77          4   1797.24\n",
       "3     12349.0       20          1   1757.55\n",
       "4     12350.0      312          1    334.40"
      ]
     },
     "execution_count": 20,
     "metadata": {},
     "output_type": "execute_result"
    }
   ],
   "source": [
    "import datetime as dt\n",
    "\n",
    "snapshot_date = df['InvoiceDate'].max() + dt.timedelta(days=1)\n",
    "\n",
    "rfm = df.groupby('CustomerID').agg({\n",
    "    'InvoiceDate': lambda x: (snapshot_date - x.max()).days,   # Recency\n",
    "    'InvoiceNo': 'nunique',                                   # Frequency\n",
    "    'TotalPrice': 'sum'                                       # Monetary\n",
    "}).reset_index()\n",
    "\n",
    "rfm.rename(columns={'InvoiceDate': 'Recency',\n",
    "                    'InvoiceNo': 'Frequency',\n",
    "                    'TotalPrice': 'Monetary'}, inplace=True)\n",
    "\n",
    "rfm.head()\n"
   ]
  },
  {
   "cell_type": "markdown",
   "id": "158a583b-4315-4ef4-be4e-d7f975453a9c",
   "metadata": {},
   "source": [
    "### Step 2: Assign Scores (1–5)"
   ]
  },
  {
   "cell_type": "code",
   "execution_count": 21,
   "id": "7fef3610-58ef-48fc-bcd2-7b184dd316a6",
   "metadata": {},
   "outputs": [],
   "source": [
    "rfm['R_Score'] = pd.qcut(rfm['Recency'], 5, labels=[5,4,3,2,1])\n",
    "\n",
    "# Frequency score (higher = better)\n",
    "rfm['F_Score'] = pd.qcut(rfm['Frequency'].rank(method='first'), 5, labels=[1,2,3,4,5])\n",
    "\n",
    "# Monetary score (higher = better)\n",
    "rfm['M_Score'] = pd.qcut(rfm['Monetary'], 5, labels=[1,2,3,4,5])"
   ]
  },
  {
   "cell_type": "markdown",
   "id": "5cd0bdb4-5378-42fd-9852-7a4ccf4cd239",
   "metadata": {},
   "source": [
    "### Step 3: Combine into RFM Segment & Score"
   ]
  },
  {
   "cell_type": "code",
   "execution_count": 22,
   "id": "e490ab26-11ba-4a5f-ae6e-23827829d631",
   "metadata": {},
   "outputs": [
    {
     "data": {
      "text/html": [
       "<div>\n",
       "<style scoped>\n",
       "    .dataframe tbody tr th:only-of-type {\n",
       "        vertical-align: middle;\n",
       "    }\n",
       "\n",
       "    .dataframe tbody tr th {\n",
       "        vertical-align: top;\n",
       "    }\n",
       "\n",
       "    .dataframe thead th {\n",
       "        text-align: right;\n",
       "    }\n",
       "</style>\n",
       "<table border=\"1\" class=\"dataframe\">\n",
       "  <thead>\n",
       "    <tr style=\"text-align: right;\">\n",
       "      <th></th>\n",
       "      <th>CustomerID</th>\n",
       "      <th>Recency</th>\n",
       "      <th>Frequency</th>\n",
       "      <th>Monetary</th>\n",
       "      <th>R_Score</th>\n",
       "      <th>F_Score</th>\n",
       "      <th>M_Score</th>\n",
       "      <th>RFM_Segment</th>\n",
       "      <th>RFM_Score</th>\n",
       "    </tr>\n",
       "  </thead>\n",
       "  <tbody>\n",
       "    <tr>\n",
       "      <th>0</th>\n",
       "      <td>12346.0</td>\n",
       "      <td>327</td>\n",
       "      <td>1</td>\n",
       "      <td>77183.60</td>\n",
       "      <td>1</td>\n",
       "      <td>1</td>\n",
       "      <td>5</td>\n",
       "      <td>115</td>\n",
       "      <td>7</td>\n",
       "    </tr>\n",
       "    <tr>\n",
       "      <th>1</th>\n",
       "      <td>12347.0</td>\n",
       "      <td>41</td>\n",
       "      <td>7</td>\n",
       "      <td>4310.00</td>\n",
       "      <td>4</td>\n",
       "      <td>5</td>\n",
       "      <td>5</td>\n",
       "      <td>455</td>\n",
       "      <td>14</td>\n",
       "    </tr>\n",
       "    <tr>\n",
       "      <th>2</th>\n",
       "      <td>12348.0</td>\n",
       "      <td>77</td>\n",
       "      <td>4</td>\n",
       "      <td>1797.24</td>\n",
       "      <td>3</td>\n",
       "      <td>4</td>\n",
       "      <td>4</td>\n",
       "      <td>344</td>\n",
       "      <td>11</td>\n",
       "    </tr>\n",
       "    <tr>\n",
       "      <th>3</th>\n",
       "      <td>12349.0</td>\n",
       "      <td>20</td>\n",
       "      <td>1</td>\n",
       "      <td>1757.55</td>\n",
       "      <td>4</td>\n",
       "      <td>1</td>\n",
       "      <td>4</td>\n",
       "      <td>414</td>\n",
       "      <td>9</td>\n",
       "    </tr>\n",
       "    <tr>\n",
       "      <th>4</th>\n",
       "      <td>12350.0</td>\n",
       "      <td>312</td>\n",
       "      <td>1</td>\n",
       "      <td>334.40</td>\n",
       "      <td>1</td>\n",
       "      <td>1</td>\n",
       "      <td>2</td>\n",
       "      <td>112</td>\n",
       "      <td>4</td>\n",
       "    </tr>\n",
       "  </tbody>\n",
       "</table>\n",
       "</div>"
      ],
      "text/plain": [
       "   CustomerID  Recency  Frequency  Monetary R_Score F_Score M_Score  \\\n",
       "0     12346.0      327          1  77183.60       1       1       5   \n",
       "1     12347.0       41          7   4310.00       4       5       5   \n",
       "2     12348.0       77          4   1797.24       3       4       4   \n",
       "3     12349.0       20          1   1757.55       4       1       4   \n",
       "4     12350.0      312          1    334.40       1       1       2   \n",
       "\n",
       "  RFM_Segment  RFM_Score  \n",
       "0         115          7  \n",
       "1         455         14  \n",
       "2         344         11  \n",
       "3         414          9  \n",
       "4         112          4  "
      ]
     },
     "execution_count": 22,
     "metadata": {},
     "output_type": "execute_result"
    }
   ],
   "source": [
    "# Combine scores\n",
    "rfm['RFM_Segment'] = (\n",
    "    rfm['R_Score'].astype(str) +\n",
    "    rfm['F_Score'].astype(str) +\n",
    "    rfm['M_Score'].astype(str)\n",
    ")\n",
    "\n",
    "rfm['RFM_Score'] = (\n",
    "    rfm['R_Score'].astype(int) +\n",
    "    rfm['F_Score'].astype(int) +\n",
    "    rfm['M_Score'].astype(int)\n",
    ")\n",
    "\n",
    "rfm.head()"
   ]
  },
  {
   "cell_type": "markdown",
   "id": "dd7288c9-55e0-4c60-bbd3-f5b50c7fe73d",
   "metadata": {},
   "source": [
    "### Step 4: Classifying Customers into Groups"
   ]
  },
  {
   "cell_type": "code",
   "execution_count": 23,
   "id": "1d97ceef-dcb5-4345-9b85-89471273b018",
   "metadata": {},
   "outputs": [
    {
     "data": {
      "text/plain": [
       "Segment\n",
       "Top Customers          1278\n",
       "Potential Customers    1144\n",
       "Loyal Customers        1017\n",
       "At Risk                 899\n",
       "Name: count, dtype: int64"
      ]
     },
     "execution_count": 23,
     "metadata": {},
     "output_type": "execute_result"
    }
   ],
   "source": [
    "def segment_customer(score):\n",
    "    if score >= 12:\n",
    "        return 'Top Customers'\n",
    "    elif score >= 9:\n",
    "        return 'Loyal Customers'\n",
    "    elif score >= 6:\n",
    "        return 'Potential Customers'\n",
    "    else:\n",
    "        return 'At Risk'\n",
    "\n",
    "rfm['Segment'] = rfm['RFM_Score'].apply(segment_customer)\n",
    "\n",
    "rfm['Segment'].value_counts()"
   ]
  },
  {
   "cell_type": "markdown",
   "id": "7a99d8ce-c034-4e2e-8024-fe31a1be0786",
   "metadata": {},
   "source": [
    "## 🎯 Simple Marketing Ideas For Each Group"
   ]
  },
  {
   "cell_type": "markdown",
   "id": "c58de11c-76aa-4321-9cfd-e711f308a5f6",
   "metadata": {},
   "source": [
    "##### Top Customers → Treat them like VIPs. Give early access, special rewards, and thank-you perks.\n",
    "\n",
    "##### Loyal Customers → Keep them happy with discounts, loyalty points, and product suggestions.\n",
    "\n",
    "##### Potential Customers → Encourage them with limited-time offers and personalized deals.\n",
    "\n",
    "##### At Risk → Win them back with “We miss you” messages, special coupons, or small freebies."
   ]
  },
  {
   "cell_type": "markdown",
   "id": "9f3a56c8-4c66-4ea6-be4f-70b239d2f1a1",
   "metadata": {},
   "source": [
    "# BONUS TASK: VISUALIZE RFM SEGMENTS WITH HEATMAPS OR BAR CHART"
   ]
  },
  {
   "cell_type": "markdown",
   "id": "2dd3019a-58a6-4b06-bbd3-e88cbd841c0f",
   "metadata": {},
   "source": [
    "## BAR CHART"
   ]
  },
  {
   "cell_type": "code",
   "execution_count": 28,
   "id": "7efca49c-890d-4c93-bfd8-dab18031e534",
   "metadata": {},
   "outputs": [
    {
     "name": "stderr",
     "output_type": "stream",
     "text": [
      "C:\\Users\\kk\\AppData\\Local\\Temp\\ipykernel_11244\\276800038.py:5: FutureWarning: \n",
      "\n",
      "Passing `palette` without assigning `hue` is deprecated and will be removed in v0.14.0. Assign the `x` variable to `hue` and set `legend=False` for the same effect.\n",
      "\n",
      "  sns.countplot(x='Segment', data=rfm,\n"
     ]
    },
    {
     "data": {
      "image/png": "[encoded data removed]",
      "text/plain": [
       "<Figure size 800x500 with 1 Axes>"
      ]
     },
     "metadata": {},
     "output_type": "display_data"
    }
   ],
   "source": [
    "import matplotlib.pyplot as plt\n",
    "import seaborn as sns\n",
    "\n",
    "plt.figure(figsize=(8,5))\n",
    "sns.countplot(x='Segment', data=rfm, \n",
    "              order=rfm['Segment'].value_counts().index, \n",
    "              palette=\"Set2\")\n",
    "\n",
    "plt.title(\"Number of Customers per RFM Segment\")\n",
    "plt.xlabel(\"Customer Segments\")\n",
    "plt.ylabel(\"Count of Customers\")\n",
    "plt.show()"
   ]
  },
  {
   "cell_type": "markdown",
   "id": "a6bdc293-9e40-401f-9790-67ea3cad1b0d",
   "metadata": {},
   "source": [
    "## HEATMAP"
   ]
  },
  {
   "cell_type": "code",
   "execution_count": 31,
   "id": "bbe5d71d-840b-4b75-aa4e-965e4ff130fe",
   "metadata": {},
   "outputs": [
    {
     "data": {
      "image/png": "[encoded data removed]",
      "text/plain": [
       "<Figure size 800x500 with 2 Axes>"
      ]
     },
     "metadata": {},
     "output_type": "display_data"
    }
   ],
   "source": [
    "# Group by Segment and calculate mean only for numeric columns\n",
    "rfm_summary = rfm.groupby('Segment')[['Recency','Frequency','Monetary']].mean()\n",
    "\n",
    "plt.figure(figsize=(8,5))\n",
    "sns.heatmap(rfm_summary, annot=True, fmt=\".1f\", cmap=\"YlGnBu\")\n",
    "plt.title(\"Average RFM Metrics by Segment\")\n",
    "plt.show()\n"
   ]
  },
  {
   "cell_type": "markdown",
   "id": "226a2a78-f827-4073-b62d-7b3368e9e9a3",
   "metadata": {},
   "source": [
    "# SUMMARY "
   ]
  },
  {
   "cell_type": "markdown",
   "id": "4c929a5c-be0d-4c31-a915-0166689078a3",
   "metadata": {},
   "source": [
    "#### We took the sales dataset and cleaned it by removing missing CustomerID, cancellations, and negative values, then created a TotalPrice column. Using this, we performed RFM analysis by calculating Recency (days since last purchase), Frequency (number of purchases), and Monetary (total spend) for each customer. We then assigned RFM scores (1–5) and combined them into an overall RFM Score, segmenting customers into groups like Top Customers, Loyal Customers, Potential Customers, and At Risk. Finally, we visualized these groups with bar charts and heatmaps to clearly understand customer behavior."
   ]
  },
  {
   "cell_type": "code",
   "execution_count": null,
   "id": "3d029df0-59c6-4abc-98c0-6de94b4f3ab6",
   "metadata": {},
   "outputs": [],
   "source": []
  }
 ],
 "metadata": {
  "kernelspec": {
   "display_name": "Python [conda env:base] *",
   "language": "python",
   "name": "conda-base-py"
  },
  "language_info": {
   "codemirror_mode": {
    "name": "ipython",
    "version": 3
   },
   "file_extension": ".py",
   "mimetype": "text/x-python",
   "name": "python",
   "nbconvert_exporter": "python",
   "pygments_lexer": "ipython3",
   "version": "3.13.5"
  }
 },
 "nbformat": 4,
 "nbformat_minor": 5
}
